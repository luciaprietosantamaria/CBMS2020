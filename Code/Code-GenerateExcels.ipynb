{
 "cells": [
  {
   "cell_type": "markdown",
   "metadata": {},
   "source": [
    "# *GENERATE EXCELS FROM DISEASE SIMILARITY TABLE*"
   ]
  },
  {
   "cell_type": "markdown",
   "metadata": {},
   "source": [
    "**Author: Lucía Prieto Santamaría **(lucia.prieto.santamaria@alumnos.upm.es)\n",
    "\n",
    "This notebook was written to generate similarity matrices in .csv files from the table \"similarity\" in DISNET database (EDSSSDB). It generates as many excels as measures are selected."
   ]
  },
  {
   "cell_type": "code",
   "execution_count": 1,
   "metadata": {
    "collapsed": true,
    "scrolled": true
   },
   "outputs": [],
   "source": [
    "# Import the needed libraries\n",
    "import conexion_edsssdb # This is a module already scripted that makes connection automatized\n",
    "import datetime # Module to print the exact time when a number of insertions in the csv is reached"
   ]
  },
  {
   "cell_type": "code",
   "execution_count": 2,
   "metadata": {},
   "outputs": [
    {
     "name": "stdout",
     "output_type": "stream",
     "text": [
      "Conectado a edsssdb\n"
     ]
    }
   ],
   "source": [
    "# Connection object creation with connection variables. EDSSSDB is the database to connect to.\n",
    "cnx = conexion_edsssdb.conectar('user', 'password', 'host', 'port', 'db')"
   ]
  },
  {
   "cell_type": "code",
   "execution_count": 3,
   "metadata": {
    "collapsed": true
   },
   "outputs": [],
   "source": [
    "def read_cuis(cnx):\n",
    "    \"\"\" Function that gets from EDSSSDB all the available CUIs from the biological layer\"\"\"\n",
    "    \n",
    "    # Query to the table \"has_biological_info\" to get all the CUIs\n",
    "    qry =(\"SELECT DISTINCT cui\"\n",
    "           \"  FROM has_biological_info\"\n",
    "           \" ORDER BY cui;\")\n",
    "\n",
    "    crs = cnx.cursor()\n",
    "    crs.execute(qry)\n",
    "    \n",
    "    # It returns the list with all the CUIs\n",
    "    return crs.fetchall()"
   ]
  },
  {
   "cell_type": "code",
   "execution_count": 4,
   "metadata": {},
   "outputs": [
    {
     "name": "stdout",
     "output_type": "stream",
     "text": [
      "Number of CUIs: 3671\n"
     ]
    }
   ],
   "source": [
    "cuis = read_cuis(cnx)\n",
    "maxcui = len(cuis)\n",
    "# We print the number of CUIs that we have returned\n",
    "print('Number of CUIs:', maxcui)"
   ]
  },
  {
   "cell_type": "code",
   "execution_count": 5,
   "metadata": {},
   "outputs": [
    {
     "name": "stdout",
     "output_type": "stream",
     "text": [
      "Query to database:\n",
      " SELECT id_dis1 AS id_cui1, id_dis2 AS id_cui2, S_gen_cos  FROM similarity UNION ALL SELECT id_dis2 AS id_cui1, id_dis1 AS id_cui2, S_gen_cos  FROM similarity ORDER BY id_cui1, id_cui2\n"
     ]
    }
   ],
   "source": [
    "# Folder and group name to identify the correct directory\n",
    "# IMPORTANT!!!! THE FOLDER NEEDS TO BE PREVIOUSLY CREATED BY THE USER\n",
    "directory_name = 'total'\n",
    "\n",
    "# We select the similarity metrics from which we want to generate the excels\n",
    "sim_metrics = (\n",
    "   'S_gen_cos',\n",
    "   'S_gen_jaccard',\n",
    "   'S_gen_dice',\n",
    "   'S_prot_cos',\n",
    "   'S_prot_jaccard',\n",
    "   'S_prot_dice',\n",
    "   'S_path_cos',\n",
    "   'S_path_jaccard',\n",
    "   'S_path_dice',\n",
    "   'S_ppi_cos',\n",
    "   'S_ppi_jaccard',\n",
    "   'S_ppi_dice'\n",
    "   'S_path_cos',\n",
    "   'S_path_jaccard',\n",
    "   'S_path_dice',\n",
    "   'S_ppi_cos',\n",
    "   'S_ppi_jaccard',\n",
    "   'S_ppi_dice',\n",
    "   'S_term_cos',\n",
    "   'S_term_jaccard',\n",
    "   'S_term_dice'\n",
    "   )\n",
    "\n",
    "\n",
    "# This variable will be used to concatenate all the metrics in a string in order to make the proper query\n",
    "selmet = \"\"\n",
    "\n",
    "# This list will contain the file objets created\n",
    "files = []\n",
    "\n",
    "\n",
    "for metric in sim_metrics:\n",
    "     # We create a csv file for each metric\n",
    "     files.append(open(\"excels/\" + directory_name + metric + \".csv\", \"w\"))\n",
    "     # We keep concatenating the metrics in a string\n",
    "     selmet = selmet + ', ' + metric\n",
    "\n",
    "\n",
    "# We write the query to the table similarity\n",
    "query = \"SELECT id_dis1 AS id_cui1, id_dis2 AS id_cui2\" + selmet + \\\n",
    "        \"  FROM similarity\" + \\\n",
    "        \" UNION ALL \" + \\\n",
    "        \"SELECT id_dis2 AS id_cui1, id_dis1 AS id_cui2\" + selmet + \\\n",
    "        \"  FROM similarity\" + \\\n",
    "        \" ORDER BY id_cui1, id_cui2\"\n",
    "\n",
    "# We print the query in order to know that it is well-formatted     \n",
    "print('Query to database:\\n',query)"
   ]
  },
  {
   "cell_type": "code",
   "execution_count": 6,
   "metadata": {},
   "outputs": [
    {
     "name": "stdout",
     "output_type": "stream",
     "text": [
      "2019-06-09 17:35:15.526931\n",
      "--->  2019-06-09 17:35:49.192618  -  1000000\n",
      "--->  2019-06-09 17:36:24.692189  -  2000000\n",
      "--->  2019-06-09 17:36:59.935645  -  3000000\n",
      "--->  2019-06-09 17:37:33.088889  -  4000000\n",
      "--->  2019-06-09 17:38:06.056386  -  5000000\n",
      "--->  2019-06-09 17:38:38.417066  -  6000000\n",
      "--->  2019-06-09 17:39:10.235721  -  7000000\n",
      "--->  2019-06-09 17:39:42.144839  -  8000000\n",
      "--->  2019-06-09 17:40:14.055227  -  9000000\n",
      "--->  2019-06-09 17:40:46.331309  -  10000000\n",
      "--->  2019-06-09 17:41:18.236068  -  11000000\n",
      "--->  2019-06-09 17:41:51.760149  -  12000000\n",
      "--->  2019-06-09 17:42:23.799289  -  13000000\n",
      "2019-06-09 17:42:39.578452\n",
      "DONE!\n"
     ]
    }
   ],
   "source": [
    "# In this case, we use fetchone instead of fetchall\n",
    "crs = cnx.cursor()\n",
    "crs.execute(query)\n",
    "row = crs.fetchone()\n",
    "\n",
    "# We print the moment the proccess starts\n",
    "print(datetime.datetime.now())\n",
    "\n",
    "# We prepare the first row of the files\n",
    "for file in files:\n",
    "     file.write(\"CUI\") # The first field will be 'CUI'\n",
    "     \n",
    "     for cui in cuis:\n",
    "        file.write(\",\" + cui[0]) # Writing the diseases CUIs in the fist row of each file.\n",
    "     \n",
    "     file.write(\"\\n\")\n",
    "\n",
    "\n",
    "# This variable will be used to print the moment each time this variable reaches a number multiple of 1000000.\n",
    "# It represents the number of fields that have been written\n",
    "cont = 0 \n",
    "\n",
    "\n",
    "for cuiy in cuis: # Getting through the disease for each row\n",
    "    \n",
    "    for file in files:\n",
    "        file.write(cuiy[0]) # Printing the CUI in the first column of each row\n",
    "    \n",
    "    \n",
    "    for cuix in cuis: # Getting through the disease for each column\n",
    "        \n",
    "        cont += 1 \n",
    "        \n",
    "        if cont % 1000000 == 0:\n",
    "            # Printing the time 'cont' reaches a number multiple of 1000000\n",
    "             print(\"---> \", datetime.datetime.now(), \" - \", cont)\n",
    "        \n",
    "        i = 0\n",
    "        \n",
    "        if (cuiy[0] == row[0] and cuix[0] == row[1]): # We check we have a match between each diseases in both queries\n",
    "            for metric in sim_metrics:\n",
    "                files[i].write(\", \" + str(row[i+2]))\n",
    "                i += 1 # Counter to get the value of each similarity metric in the right file\n",
    "            \n",
    "            row = crs.fetchone()\n",
    "            \n",
    "            if row == None:\n",
    "                row = (\"\",\"\")\n",
    "        \n",
    "        else:\n",
    "            if cuiy[0] == cuix[0]: # In case we are in the diagonal\n",
    "                x = 1\n",
    "            else: # In case there is not similarity coefficient of the disease combination\n",
    "                x = 0\n",
    "            for metric in sim_metrics:\n",
    "                files[i].write(\", \" + str(x))\n",
    "                i += 1\n",
    "    \n",
    "    for file in files:\n",
    "        file.write(\"\\n\")\n",
    "\n",
    "for file in files:\n",
    "    file.close() # Closing all the files\n",
    "     \n",
    "print(datetime.datetime.now()) # End time\n",
    "\n",
    "print('DONE!')"
   ]
  },
  {
   "cell_type": "code",
   "execution_count": 7,
   "metadata": {
    "collapsed": true
   },
   "outputs": [],
   "source": [
    "# Closing the connection to the database when finished\n",
    "cnx.close()"
   ]
  }
 ],
 "metadata": {
  "kernelspec": {
   "display_name": "Python 3",
   "language": "python",
   "name": "python3"
  },
  "language_info": {
   "codemirror_mode": {
    "name": "ipython",
    "version": 3
   },
   "file_extension": ".py",
   "mimetype": "text/x-python",
   "name": "python",
   "nbconvert_exporter": "python",
   "pygments_lexer": "ipython3",
   "version": "3.6.8"
  }
 },
 "nbformat": 4,
 "nbformat_minor": 2
}
