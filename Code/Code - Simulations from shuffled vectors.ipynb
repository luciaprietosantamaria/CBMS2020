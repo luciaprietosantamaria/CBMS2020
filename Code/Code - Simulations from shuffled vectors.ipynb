{
 "cells": [
  {
   "cell_type": "markdown",
   "metadata": {},
   "source": [
    "# Simulations from shuffled vectors"
   ]
  },
  {
   "cell_type": "markdown",
   "metadata": {},
   "source": [
    "Importing the needed libraries."
   ]
  },
  {
   "cell_type": "code",
   "execution_count": 1,
   "metadata": {},
   "outputs": [],
   "source": [
    "import pandas as pd\n",
    "import numpy as np\n",
    "\n",
    "from sklearn.cluster import DBSCAN\n",
    "from sklearn import metrics"
   ]
  },
  {
   "cell_type": "markdown",
   "metadata": {},
   "source": [
    "Storing the features matrix in a pandas dataframe and then converting it to a numpy array. The features matrix stand for the matrix in which each row repesents a disease and each column a feature (whether a particular gene is present or no in a disease)."
   ]
  },
  {
   "cell_type": "code",
   "execution_count": 26,
   "metadata": {},
   "outputs": [],
   "source": [
    "original = pd.read_csv('all_feature_matrix_prots_CUI.csv')\n",
    "original_np = original.to_numpy()"
   ]
  },
  {
   "cell_type": "markdown",
   "metadata": {},
   "source": [
    "\n",
    "\n"
   ]
  },
  {
   "cell_type": "markdown",
   "metadata": {},
   "source": [
    "### First experiment\n",
    "- 100 simulations (100 different shuffled vectors)\n",
    "- eps: 0.85"
   ]
  },
  {
   "cell_type": "code",
   "execution_count": 41,
   "metadata": {},
   "outputs": [],
   "source": [
    "n_simulations = 100\n",
    "\n",
    "\n",
    "clusters = list()\n",
    "noise = list()\n",
    "silhouettes = list()\n",
    "\n",
    "for n in range(n_simulations):\n",
    "    \n",
    "    shuffled = np.copy(original_np)\n",
    "\n",
    "    # Shuffling elements in each column of the matrix\n",
    "    for i in range(shuffled.shape[1]):\n",
    "        np.random.shuffle(shuffled[:,i])\n",
    "\n",
    "\n",
    "    labels = DBSCAN(eps = 0.85, min_samples = 2, metric = 'cosine').fit_predict(shuffled)\n",
    "    \n",
    "    if not 0 in labels:\n",
    "        n_clusters = 0\n",
    "        n_noise = list(labels).count(-1)\n",
    "        silh_coef = -1\n",
    "                \n",
    "    else:\n",
    "        n_clusters = len(set(labels)) - (1 if -1 in labels else 0)\n",
    "        n_noise = list(labels).count(-1)\n",
    "        silh_coef = metrics.silhouette_score(shuffled, labels, metric = 'cosine')\n",
    "\n",
    "    clusters.append(n_clusters)\n",
    "    noise.append(n_noise)\n",
    "    silhouettes.append(silh_coef)"
   ]
  },
  {
   "cell_type": "markdown",
   "metadata": {},
   "source": [
    "Storing the obtained results in a pandas dataframe to obtain the statistics of the experiment. For each experiment, the number of clusters, the number of outliers and the value of Silhouette coefficient are stored."
   ]
  },
  {
   "cell_type": "code",
   "execution_count": 42,
   "metadata": {},
   "outputs": [],
   "source": [
    "clus_np = np.array(clusters)\n",
    "noise_np = np.array(noise)\n",
    "silh_np = np.array(silhouettes)\n",
    "\n",
    "results = pd.DataFrame(list(zip(clusters, noise, silhouettes)),\n",
    "                      columns = ['Cluster', 'Noise', 'Silhouette'])"
   ]
  },
  {
   "cell_type": "markdown",
   "metadata": {},
   "source": [
    "First five results in the experiment:"
   ]
  },
  {
   "cell_type": "code",
   "execution_count": 43,
   "metadata": {},
   "outputs": [
    {
     "data": {
      "text/html": [
       "<div>\n",
       "<style scoped>\n",
       "    .dataframe tbody tr th:only-of-type {\n",
       "        vertical-align: middle;\n",
       "    }\n",
       "\n",
       "    .dataframe tbody tr th {\n",
       "        vertical-align: top;\n",
       "    }\n",
       "\n",
       "    .dataframe thead th {\n",
       "        text-align: right;\n",
       "    }\n",
       "</style>\n",
       "<table border=\"1\" class=\"dataframe\">\n",
       "  <thead>\n",
       "    <tr style=\"text-align: right;\">\n",
       "      <th></th>\n",
       "      <th>Cluster</th>\n",
       "      <th>Noise</th>\n",
       "      <th>Silhouette</th>\n",
       "    </tr>\n",
       "  </thead>\n",
       "  <tbody>\n",
       "    <tr>\n",
       "      <td>0</td>\n",
       "      <td>298</td>\n",
       "      <td>2617</td>\n",
       "      <td>-0.045167</td>\n",
       "    </tr>\n",
       "    <tr>\n",
       "      <td>1</td>\n",
       "      <td>269</td>\n",
       "      <td>2619</td>\n",
       "      <td>-0.045741</td>\n",
       "    </tr>\n",
       "    <tr>\n",
       "      <td>2</td>\n",
       "      <td>303</td>\n",
       "      <td>2617</td>\n",
       "      <td>-0.044875</td>\n",
       "    </tr>\n",
       "    <tr>\n",
       "      <td>3</td>\n",
       "      <td>257</td>\n",
       "      <td>2597</td>\n",
       "      <td>-0.046461</td>\n",
       "    </tr>\n",
       "    <tr>\n",
       "      <td>4</td>\n",
       "      <td>280</td>\n",
       "      <td>2638</td>\n",
       "      <td>-0.045661</td>\n",
       "    </tr>\n",
       "  </tbody>\n",
       "</table>\n",
       "</div>"
      ],
      "text/plain": [
       "   Cluster  Noise  Silhouette\n",
       "0      298   2617   -0.045167\n",
       "1      269   2619   -0.045741\n",
       "2      303   2617   -0.044875\n",
       "3      257   2597   -0.046461\n",
       "4      280   2638   -0.045661"
      ]
     },
     "execution_count": 43,
     "metadata": {},
     "output_type": "execute_result"
    }
   ],
   "source": [
    "results.head()"
   ]
  },
  {
   "cell_type": "markdown",
   "metadata": {},
   "source": [
    "Statistics of the dataframe, we can get the standard deviation for the 3 parameters under study."
   ]
  },
  {
   "cell_type": "code",
   "execution_count": 44,
   "metadata": {
    "scrolled": true
   },
   "outputs": [
    {
     "data": {
      "text/html": [
       "<div>\n",
       "<style scoped>\n",
       "    .dataframe tbody tr th:only-of-type {\n",
       "        vertical-align: middle;\n",
       "    }\n",
       "\n",
       "    .dataframe tbody tr th {\n",
       "        vertical-align: top;\n",
       "    }\n",
       "\n",
       "    .dataframe thead th {\n",
       "        text-align: right;\n",
       "    }\n",
       "</style>\n",
       "<table border=\"1\" class=\"dataframe\">\n",
       "  <thead>\n",
       "    <tr style=\"text-align: right;\">\n",
       "      <th></th>\n",
       "      <th>Cluster</th>\n",
       "      <th>Noise</th>\n",
       "      <th>Silhouette</th>\n",
       "    </tr>\n",
       "  </thead>\n",
       "  <tbody>\n",
       "    <tr>\n",
       "      <td>count</td>\n",
       "      <td>100.000000</td>\n",
       "      <td>100.000000</td>\n",
       "      <td>100.000000</td>\n",
       "    </tr>\n",
       "    <tr>\n",
       "      <td>mean</td>\n",
       "      <td>267.710000</td>\n",
       "      <td>2610.670000</td>\n",
       "      <td>-0.045996</td>\n",
       "    </tr>\n",
       "    <tr>\n",
       "      <td>std</td>\n",
       "      <td>17.015914</td>\n",
       "      <td>28.457324</td>\n",
       "      <td>0.001043</td>\n",
       "    </tr>\n",
       "    <tr>\n",
       "      <td>min</td>\n",
       "      <td>230.000000</td>\n",
       "      <td>2549.000000</td>\n",
       "      <td>-0.048304</td>\n",
       "    </tr>\n",
       "    <tr>\n",
       "      <td>25%</td>\n",
       "      <td>257.000000</td>\n",
       "      <td>2591.500000</td>\n",
       "      <td>-0.046598</td>\n",
       "    </tr>\n",
       "    <tr>\n",
       "      <td>50%</td>\n",
       "      <td>266.500000</td>\n",
       "      <td>2611.500000</td>\n",
       "      <td>-0.046174</td>\n",
       "    </tr>\n",
       "    <tr>\n",
       "      <td>75%</td>\n",
       "      <td>276.250000</td>\n",
       "      <td>2628.250000</td>\n",
       "      <td>-0.045413</td>\n",
       "    </tr>\n",
       "    <tr>\n",
       "      <td>max</td>\n",
       "      <td>314.000000</td>\n",
       "      <td>2661.000000</td>\n",
       "      <td>-0.042951</td>\n",
       "    </tr>\n",
       "  </tbody>\n",
       "</table>\n",
       "</div>"
      ],
      "text/plain": [
       "          Cluster        Noise  Silhouette\n",
       "count  100.000000   100.000000  100.000000\n",
       "mean   267.710000  2610.670000   -0.045996\n",
       "std     17.015914    28.457324    0.001043\n",
       "min    230.000000  2549.000000   -0.048304\n",
       "25%    257.000000  2591.500000   -0.046598\n",
       "50%    266.500000  2611.500000   -0.046174\n",
       "75%    276.250000  2628.250000   -0.045413\n",
       "max    314.000000  2661.000000   -0.042951"
      ]
     },
     "execution_count": 44,
     "metadata": {},
     "output_type": "execute_result"
    }
   ],
   "source": [
    "results.describe()"
   ]
  },
  {
   "cell_type": "markdown",
   "metadata": {},
   "source": [
    "\n",
    "\n"
   ]
  },
  {
   "cell_type": "markdown",
   "metadata": {},
   "source": [
    "\n",
    "\n"
   ]
  },
  {
   "cell_type": "markdown",
   "metadata": {},
   "source": [
    "\n",
    "\n"
   ]
  },
  {
   "cell_type": "markdown",
   "metadata": {},
   "source": [
    "\n",
    "\n"
   ]
  },
  {
   "cell_type": "markdown",
   "metadata": {},
   "source": [
    "### Second experiment\n",
    "- Number of similations: 100\n",
    "- eps: 0.1"
   ]
  },
  {
   "cell_type": "code",
   "execution_count": 26,
   "metadata": {},
   "outputs": [],
   "source": [
    "n_simulations = 100\n",
    "\n",
    "clusters = list()\n",
    "noise = list()\n",
    "silhouettes = list()\n",
    "\n",
    "for n in range(n_simulations):\n",
    "    \n",
    "    #np.random.seed(n)\n",
    "    \n",
    "    shuffled = np.copy(original_np)\n",
    "\n",
    "    # Shuffling elements in each column of the matrix\n",
    "    for i in range(shuffled.shape[1]):\n",
    "        np.random.shuffle(shuffled[:,i])\n",
    "\n",
    "\n",
    "\n",
    "    distances_cos = cosine_distances(shuffled)\n",
    "\n",
    "\n",
    "    labels = DBSCAN(eps = 0.1, min_samples = 2, metric='precomputed').fit_predict(distances_cos)\n",
    "    \n",
    "    if not 0 in labels:\n",
    "        n_clusters = 0\n",
    "        n_noise = list(labels).count(-1)\n",
    "        silh_coef = -1\n",
    "                \n",
    "    else:\n",
    "        n_clusters = len(set(labels)) - (1 if -1 in labels else 0)\n",
    "        n_noise = list(labels).count(-1)\n",
    "        silh_coef = metrics.silhouette_score(distances_cos, labels, metric='precomputed')\n",
    "\n",
    "    clusters.append(n_clusters)\n",
    "    noise.append(n_noise)\n",
    "    silhouettes.append(silh_coef)"
   ]
  },
  {
   "cell_type": "markdown",
   "metadata": {},
   "source": [
    "Getting the statistics of the second experiment."
   ]
  },
  {
   "cell_type": "code",
   "execution_count": 27,
   "metadata": {},
   "outputs": [
    {
     "data": {
      "text/html": [
       "<div>\n",
       "<style>\n",
       "    .dataframe thead tr:only-child th {\n",
       "        text-align: right;\n",
       "    }\n",
       "\n",
       "    .dataframe thead th {\n",
       "        text-align: left;\n",
       "    }\n",
       "\n",
       "    .dataframe tbody tr th {\n",
       "        vertical-align: top;\n",
       "    }\n",
       "</style>\n",
       "<table border=\"1\" class=\"dataframe\">\n",
       "  <thead>\n",
       "    <tr style=\"text-align: right;\">\n",
       "      <th></th>\n",
       "      <th>Cluster</th>\n",
       "      <th>Noise</th>\n",
       "      <th>Silhouette</th>\n",
       "    </tr>\n",
       "  </thead>\n",
       "  <tbody>\n",
       "    <tr>\n",
       "      <th>count</th>\n",
       "      <td>100.0</td>\n",
       "      <td>100.0</td>\n",
       "      <td>100.0</td>\n",
       "    </tr>\n",
       "    <tr>\n",
       "      <th>mean</th>\n",
       "      <td>0.0</td>\n",
       "      <td>3671.0</td>\n",
       "      <td>-1.0</td>\n",
       "    </tr>\n",
       "    <tr>\n",
       "      <th>std</th>\n",
       "      <td>0.0</td>\n",
       "      <td>0.0</td>\n",
       "      <td>0.0</td>\n",
       "    </tr>\n",
       "    <tr>\n",
       "      <th>min</th>\n",
       "      <td>0.0</td>\n",
       "      <td>3671.0</td>\n",
       "      <td>-1.0</td>\n",
       "    </tr>\n",
       "    <tr>\n",
       "      <th>25%</th>\n",
       "      <td>0.0</td>\n",
       "      <td>3671.0</td>\n",
       "      <td>-1.0</td>\n",
       "    </tr>\n",
       "    <tr>\n",
       "      <th>50%</th>\n",
       "      <td>0.0</td>\n",
       "      <td>3671.0</td>\n",
       "      <td>-1.0</td>\n",
       "    </tr>\n",
       "    <tr>\n",
       "      <th>75%</th>\n",
       "      <td>0.0</td>\n",
       "      <td>3671.0</td>\n",
       "      <td>-1.0</td>\n",
       "    </tr>\n",
       "    <tr>\n",
       "      <th>max</th>\n",
       "      <td>0.0</td>\n",
       "      <td>3671.0</td>\n",
       "      <td>-1.0</td>\n",
       "    </tr>\n",
       "  </tbody>\n",
       "</table>\n",
       "</div>"
      ],
      "text/plain": [
       "       Cluster   Noise  Silhouette\n",
       "count    100.0   100.0       100.0\n",
       "mean       0.0  3671.0        -1.0\n",
       "std        0.0     0.0         0.0\n",
       "min        0.0  3671.0        -1.0\n",
       "25%        0.0  3671.0        -1.0\n",
       "50%        0.0  3671.0        -1.0\n",
       "75%        0.0  3671.0        -1.0\n",
       "max        0.0  3671.0        -1.0"
      ]
     },
     "execution_count": 27,
     "metadata": {},
     "output_type": "execute_result"
    }
   ],
   "source": [
    "clus_np = np.array(clusters)\n",
    "noise_np = np.array(noise)\n",
    "silh_np = np.array(silhouettes)\n",
    "\n",
    "results = pd.DataFrame(list(zip(clusters, noise, silhouettes)),\n",
    "                      columns = ['Cluster', 'Noise', 'Silhouette'])\n",
    "results.describe()"
   ]
  },
  {
   "cell_type": "markdown",
   "metadata": {},
   "source": [
    "\n",
    "\n"
   ]
  },
  {
   "cell_type": "markdown",
   "metadata": {},
   "source": [
    "\n",
    "\n"
   ]
  },
  {
   "cell_type": "markdown",
   "metadata": {},
   "source": [
    "\n",
    "\n"
   ]
  },
  {
   "cell_type": "markdown",
   "metadata": {},
   "source": [
    "\n",
    "\n"
   ]
  },
  {
   "cell_type": "markdown",
   "metadata": {},
   "source": [
    "\n",
    "\n"
   ]
  },
  {
   "cell_type": "markdown",
   "metadata": {},
   "source": [
    "### Third experiment\n",
    "- Number of simulations: 100\n",
    "- eps: 0.4"
   ]
  },
  {
   "cell_type": "code",
   "execution_count": 28,
   "metadata": {},
   "outputs": [],
   "source": [
    "n_simulations = 100\n",
    "\n",
    "clusters = list()\n",
    "noise = list()\n",
    "silhouettes = list()\n",
    "\n",
    "for n in range(n_simulations):\n",
    "    \n",
    "    #np.random.seed(n)\n",
    "    \n",
    "    shuffled = np.copy(original_np)\n",
    "\n",
    "    # Shuffling elements in each column of the matrix\n",
    "    for i in range(shuffled.shape[1]):\n",
    "        np.random.shuffle(shuffled[:,i])\n",
    "\n",
    "\n",
    "\n",
    "    distances_cos = cosine_distances(shuffled)\n",
    "\n",
    "\n",
    "    labels = DBSCAN(eps = 0.4, min_samples = 2, metric='precomputed').fit_predict(distances_cos)\n",
    "    \n",
    "    if not 0 in labels:\n",
    "        n_clusters = 0\n",
    "        n_noise = list(labels).count(-1)\n",
    "        silh_coef = -1\n",
    "                \n",
    "    else:\n",
    "        n_clusters = len(set(labels)) - (1 if -1 in labels else 0)\n",
    "        n_noise = list(labels).count(-1)\n",
    "        silh_coef = metrics.silhouette_score(distances_cos, labels, metric='precomputed')\n",
    "\n",
    "    clusters.append(n_clusters)\n",
    "    noise.append(n_noise)\n",
    "    silhouettes.append(silh_coef)"
   ]
  },
  {
   "cell_type": "markdown",
   "metadata": {},
   "source": [
    "Getting the statistics of the third experiment."
   ]
  },
  {
   "cell_type": "code",
   "execution_count": 29,
   "metadata": {},
   "outputs": [
    {
     "data": {
      "text/html": [
       "<div>\n",
       "<style>\n",
       "    .dataframe thead tr:only-child th {\n",
       "        text-align: right;\n",
       "    }\n",
       "\n",
       "    .dataframe thead th {\n",
       "        text-align: left;\n",
       "    }\n",
       "\n",
       "    .dataframe tbody tr th {\n",
       "        vertical-align: top;\n",
       "    }\n",
       "</style>\n",
       "<table border=\"1\" class=\"dataframe\">\n",
       "  <thead>\n",
       "    <tr style=\"text-align: right;\">\n",
       "      <th></th>\n",
       "      <th>Cluster</th>\n",
       "      <th>Noise</th>\n",
       "      <th>Silhouette</th>\n",
       "    </tr>\n",
       "  </thead>\n",
       "  <tbody>\n",
       "    <tr>\n",
       "      <th>count</th>\n",
       "      <td>100.0</td>\n",
       "      <td>100.0</td>\n",
       "      <td>100.0</td>\n",
       "    </tr>\n",
       "    <tr>\n",
       "      <th>mean</th>\n",
       "      <td>0.0</td>\n",
       "      <td>3671.0</td>\n",
       "      <td>-1.0</td>\n",
       "    </tr>\n",
       "    <tr>\n",
       "      <th>std</th>\n",
       "      <td>0.0</td>\n",
       "      <td>0.0</td>\n",
       "      <td>0.0</td>\n",
       "    </tr>\n",
       "    <tr>\n",
       "      <th>min</th>\n",
       "      <td>0.0</td>\n",
       "      <td>3671.0</td>\n",
       "      <td>-1.0</td>\n",
       "    </tr>\n",
       "    <tr>\n",
       "      <th>25%</th>\n",
       "      <td>0.0</td>\n",
       "      <td>3671.0</td>\n",
       "      <td>-1.0</td>\n",
       "    </tr>\n",
       "    <tr>\n",
       "      <th>50%</th>\n",
       "      <td>0.0</td>\n",
       "      <td>3671.0</td>\n",
       "      <td>-1.0</td>\n",
       "    </tr>\n",
       "    <tr>\n",
       "      <th>75%</th>\n",
       "      <td>0.0</td>\n",
       "      <td>3671.0</td>\n",
       "      <td>-1.0</td>\n",
       "    </tr>\n",
       "    <tr>\n",
       "      <th>max</th>\n",
       "      <td>0.0</td>\n",
       "      <td>3671.0</td>\n",
       "      <td>-1.0</td>\n",
       "    </tr>\n",
       "  </tbody>\n",
       "</table>\n",
       "</div>"
      ],
      "text/plain": [
       "       Cluster   Noise  Silhouette\n",
       "count    100.0   100.0       100.0\n",
       "mean       0.0  3671.0        -1.0\n",
       "std        0.0     0.0         0.0\n",
       "min        0.0  3671.0        -1.0\n",
       "25%        0.0  3671.0        -1.0\n",
       "50%        0.0  3671.0        -1.0\n",
       "75%        0.0  3671.0        -1.0\n",
       "max        0.0  3671.0        -1.0"
      ]
     },
     "execution_count": 29,
     "metadata": {},
     "output_type": "execute_result"
    }
   ],
   "source": [
    "clus_np = np.array(clusters)\n",
    "noise_np = np.array(noise)\n",
    "silh_np = np.array(silhouettes)\n",
    "\n",
    "results = pd.DataFrame(list(zip(clusters, noise, silhouettes)),\n",
    "                      columns = ['Cluster', 'Noise', 'Silhouette'])\n",
    "results.describe()"
   ]
  }
 ],
 "metadata": {
  "kernelspec": {
   "display_name": "Python 3",
   "language": "python",
   "name": "python3"
  },
  "language_info": {
   "codemirror_mode": {
    "name": "ipython",
    "version": 3
   },
   "file_extension": ".py",
   "mimetype": "text/x-python",
   "name": "python",
   "nbconvert_exporter": "python",
   "pygments_lexer": "ipython3",
   "version": "3.7.4"
  }
 },
 "nbformat": 4,
 "nbformat_minor": 4
}
