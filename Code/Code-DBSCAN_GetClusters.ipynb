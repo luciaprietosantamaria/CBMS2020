{
 "cells": [
  {
   "cell_type": "markdown",
   "metadata": {
    "collapsed": true
   },
   "source": [
    "# *Getting DBSCAN clusters on given parameters*"
   ]
  },
  {
   "cell_type": "markdown",
   "metadata": {},
   "source": [
    "**Author: Lucía Prieto Santamaría **(lucia.prieto.santamaria@alumnos.upm.es)\n",
    "\n",
    "This notebook was written to develop complete DBSCAN clustering analysis on similarity matrices stored in csv files. It returns the clusters that are generated for DBSCAN implementation on previous estimated combination of parameters that have to be settled."
   ]
  },
  {
   "cell_type": "code",
   "execution_count": 1,
   "metadata": {
    "collapsed": true
   },
   "outputs": [],
   "source": [
    "# Import of the needed libraries\n",
    "import conexion_edsssdb # This is a module already scripted that makes connection automatized\n",
    "import csv # Module to get the data from the similarity matrices stored in csv files\n",
    "import numpy as np # Library needed to structure the data before implementing the algorithm\n",
    "from sklearn.cluster import DBSCAN # Extension of scikit-learn that implements the algorithm DBSCAN\n",
    "from sklearn import metrics # Extension of scikit-learn that will be used to compute silhouette coefficient"
   ]
  },
  {
   "cell_type": "code",
   "execution_count": 2,
   "metadata": {
    "collapsed": true
   },
   "outputs": [],
   "source": [
    "# VARIABLES DECLARATION\n",
    "\n",
    "# Variables needed for DBSCAN algorithm\n",
    "metric = 'prot_cos'\n",
    "epsilon = 0.4\n",
    "ms = 2\n",
    "\n",
    "# We need to specify here the total number of diseases in the subset we are working with\n",
    "number_of_diseases = 3671\n",
    "\n",
    "# Folder and group name to identify the correct directory\n",
    "# IMPORTANT!!!! THE FOLDER NEEDS TO BE PREVIOUSLY CREATED BY THE USER\n",
    "directory_name = 'weighted_score/wesco'\n",
    "\n",
    "# Dictionary that will store as keys the number identifying the clusters and as values, the lists of diseases in each\n",
    "# cluster\n",
    "clusters_diseases = {}"
   ]
  },
  {
   "cell_type": "code",
   "execution_count": 3,
   "metadata": {
    "collapsed": true
   },
   "outputs": [],
   "source": [
    "# FUNCTIONS DECLARATION\n",
    "\n",
    "def get_diseases_names(cnx_obj):\n",
    "    \"\"\"Function that will return a dictionary with all the correspondences between diseases IDs and names that\n",
    "    are present in DisGeNET table of EDSSSDB.\"\"\"\n",
    "    \n",
    "    diseases_IDname = {}\n",
    "    \n",
    "    mysql_query = (\"\"\"\n",
    "                   SELECT \n",
    "                        dd.umls_id, dd.dis_name\n",
    "                   FROM\n",
    "                        edsssdb.disgenet_disease dd;\n",
    "                   \"\"\")\n",
    "\n",
    "    cursor = cnx.cursor(buffered = True)\n",
    "    cursor.execute(mysql_query)\n",
    "    data=cursor.fetchall()\n",
    "    \n",
    "    for row in data:\n",
    "        diseases_IDname[row[0]] = row[1]\n",
    "        \n",
    "    return diseases_IDname\n",
    "\n"
   ]
  },
  {
   "cell_type": "code",
   "execution_count": 4,
   "metadata": {},
   "outputs": [
    {
     "name": "stdout",
     "output_type": "stream",
     "text": [
      "Conectado a edsssdb\n"
     ]
    }
   ],
   "source": [
    "# RETRIEVING THE NEEDED DATA FROM THE DATABASE\n",
    "\n",
    "# Connection object creation with connection variables. EDSSSDB is the database to connect to.\n",
    "cnx = conexion_edsssdb.conectar('user', 'password', 'host', 'port', 'db')\n",
    "\n",
    "# We get the names of the diseases from the database in order to later know which diseases are in each cluster.\n",
    "diseases_dict = get_diseases_names(cnx)\n",
    "\n",
    "# Closing the connection to the database when finished\n",
    "cnx.close()"
   ]
  },
  {
   "cell_type": "code",
   "execution_count": 5,
   "metadata": {
    "collapsed": true
   },
   "outputs": [],
   "source": [
    "# Getting the list of diseases we are going to work with\n",
    "\n",
    "file_name = 'excels/' + directory_name + 'S_' + metric + '.csv'\n",
    "\n",
    "with open(file_name) as f:\n",
    "    reader = csv.reader(f, delimiter = \",\")\n",
    "    diseases = next(reader)\n",
    "\n",
    "diseases.pop(0)\n",
    "    \n",
    "f.close()"
   ]
  },
  {
   "cell_type": "code",
   "execution_count": 6,
   "metadata": {},
   "outputs": [
    {
     "name": "stdout",
     "output_type": "stream",
     "text": [
      "Number of clusters for prot_cos MS 2 eps 0.4:  460\n",
      "Number of outliers  for prot_cos MS 2 eps 0.4:  1801\n"
     ]
    }
   ],
   "source": [
    "epsilon_str = str(epsilon)\n",
    "ms_str = str(ms) \n",
    "\n",
    "columns = tuple(range(1, number_of_diseases + 1)) # Columns to get from the similarity matrix excel file\n",
    "\n",
    "my_data = np.genfromtxt(file_name, delimiter= \",\", skip_header = 1, usecols = columns)\n",
    "# Getting the data from the excel similarity matrix\n",
    "\n",
    "X = 1 - my_data# Convert similarity measure into distance\n",
    "    \n",
    "\n",
    "labels = DBSCAN(eps=epsilon, min_samples=ms, metric='precomputed').fit_predict(X)\n",
    "silh_coef = metrics.silhouette_score(X, labels, metric='precomputed')\n",
    " \n",
    "\n",
    "# Counting the number of clusters in model labels, ignoring noise if present.\n",
    "n_clusters =  len(set(labels)) - (1 if -1 in labels else 0) \n",
    "n_noise = list(labels).count(-1)\n",
    "\n",
    "print(\"Number of clusters for %s\" %metric, \"MS %s\" %ms, \"eps %s: \" %epsilon_str, n_clusters)\n",
    "print(\"Number of outliers  for %s\" %metric, \"MS %s\" %ms, \"eps %s: \" %epsilon_str, n_noise)\n",
    "\n",
    "for i in range(len(diseases)): \n",
    "    if labels[i] != -1:\n",
    "        if labels[i] in clusters_diseases:\n",
    "            clusters_diseases[labels[i]].append(diseases[i])\n",
    "        else:\n",
    "            clusters_diseases[labels[i]] = [diseases[i]] "
   ]
  },
  {
   "cell_type": "code",
   "execution_count": 7,
   "metadata": {},
   "outputs": [
    {
     "name": "stdout",
     "output_type": "stream",
     "text": [
      "Writing the results in file:  clusters/weighted_score_clust_prot_cos_ms2_eps0.4.txt\n",
      "\tDONE!\n"
     ]
    }
   ],
   "source": [
    "# WRITING THE RESULTS IN FILES\n",
    "\n",
    "foutname = \"clusters/weighted_score_clust_\" + metric + \"_ms\" + ms_str + \"_eps\" + epsilon_str + \".txt\"\n",
    "fileout = open(foutname, \"w\")\n",
    "\n",
    "print('Writing the results in file: ', foutname)\n",
    "\n",
    "fileout.write(\"CLUSTERS for [weigthed] \" + metric + \", MS \" + ms_str + \", eps \" + epsilon_str + \"\\n\")\n",
    "fileout.write(\"\\t--> Number of clusters: \" + str(n_clusters) + \"\\n\")\n",
    "fileout.write(\"\\t--> Number of outliers: \" + str(n_noise) + \"\\n\")\n",
    "fileout.write(\"\\t--> Silhouette coefficient: \" + str(silh_coef) + \"\\n\\n\")\n",
    "\n",
    "\n",
    "for clus, diseases_list in clusters_diseases.items():\n",
    "    \n",
    "    diseases_list.sort()\n",
    "    fileout.write(str(\"Cluster \" + str(clus) + \":\\n\"))\n",
    "    \n",
    "    for dis in diseases_list:\n",
    "        fileout.write(str(\"\\t\" + str(dis) + \"\\t\" + str(diseases_dict[dis]) + \"\\n\"))\n",
    "    \n",
    "    fileout.write(str(\"\\tNumber of diseases: \" + str(len(diseases_list)) + \"\\n\\n\\n\"))\n",
    "\n",
    "\n",
    "print('\\tDONE!')\n",
    "\n",
    "fileout.close() # Once written the results, we close the file object"
   ]
  }
 ],
 "metadata": {
  "kernelspec": {
   "display_name": "Python 3",
   "language": "python",
   "name": "python3"
  },
  "language_info": {
   "codemirror_mode": {
    "name": "ipython",
    "version": 3
   },
   "file_extension": ".py",
   "mimetype": "text/x-python",
   "name": "python",
   "nbconvert_exporter": "python",
   "pygments_lexer": "ipython3",
   "version": "3.6.8"
  }
 },
 "nbformat": 4,
 "nbformat_minor": 2
}
